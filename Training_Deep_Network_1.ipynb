{
  "nbformat": 4,
  "nbformat_minor": 0,
  "metadata": {
    "colab": {
      "provenance": [],
      "authorship_tag": "ABX9TyMuVI+VXj2YwhNK2+Tw+jXY"
    },
    "kernelspec": {
      "name": "python3",
      "display_name": "Python 3"
    },
    "language_info": {
      "name": "python"
    }
  },
  "cells": [
    {
      "cell_type": "code",
      "execution_count": 15,
      "metadata": {
        "id": "0gK1kClw2nIf"
      },
      "outputs": [],
      "source": [
        "import torch\n",
        "import torch.nn as nn #neural network library\n",
        "import torch.nn.functional\n"
      ]
    },
    {
      "cell_type": "code",
      "source": [
        "#define our first linear regression model\n",
        "model = nn.Linear(10,1)"
      ],
      "metadata": {
        "id": "C1cEAs6822Fx"
      },
      "execution_count": 16,
      "outputs": []
    },
    {
      "cell_type": "code",
      "source": [
        "print(model)"
      ],
      "metadata": {
        "colab": {
          "base_uri": "https://localhost:8080/"
        },
        "id": "ryIAXzuv3dbq",
        "outputId": "1e9df98f-fcbd-4fc3-98b4-1e7ee24decf7"
      },
      "execution_count": 17,
      "outputs": [
        {
          "output_type": "stream",
          "name": "stdout",
          "text": [
            "Linear(in_features=10, out_features=1, bias=True)\n"
          ]
        }
      ]
    },
    {
      "cell_type": "code",
      "source": [
        "print(model.weight)\n",
        "print(model.bias)"
      ],
      "metadata": {
        "colab": {
          "base_uri": "https://localhost:8080/"
        },
        "id": "VPM85Biz3gGa",
        "outputId": "498f596a-13c6-4b17-c0dc-9cd4abfdd271"
      },
      "execution_count": 18,
      "outputs": [
        {
          "output_type": "stream",
          "name": "stdout",
          "text": [
            "Parameter containing:\n",
            "tensor([[ 0.0250, -0.1833,  0.2620,  0.2334,  0.1749,  0.1061, -0.0010, -0.0201,\n",
            "         -0.0017, -0.0231]], requires_grad=True)\n",
            "Parameter containing:\n",
            "tensor([0.0980], requires_grad=True)\n"
          ]
        }
      ]
    },
    {
      "cell_type": "code",
      "source": [
        "x = torch.ones(10)\n",
        "model(x)"
      ],
      "metadata": {
        "colab": {
          "base_uri": "https://localhost:8080/"
        },
        "id": "nY-zLWg23vHF",
        "outputId": "920c62ab-f156-4c69-8bb6-738c8ec119b0"
      },
      "execution_count": 19,
      "outputs": [
        {
          "output_type": "execute_result",
          "data": {
            "text/plain": [
              "tensor([0.6703], grad_fn=<ViewBackward0>)"
            ]
          },
          "metadata": {},
          "execution_count": 19
        }
      ]
    },
    {
      "cell_type": "code",
      "source": [],
      "metadata": {
        "id": "BzDYD0uV32Dq"
      },
      "execution_count": 19,
      "outputs": []
    },
    {
      "cell_type": "markdown",
      "source": [
        "Linear Classification using Pytorch"
      ],
      "metadata": {
        "id": "Zus3TuXFhGkp"
      }
    },
    {
      "cell_type": "code",
      "source": [
        "class LinearClassifier(torch.nn.Module):           #any module in pytorch is torch.nn.Module\n",
        "    def __init__(self, input_dim, output_dim) -> None:\n",
        "        super().__init__()  # the very first line always call super init, it will tell Pytorch to initialize the module\n",
        "        self.fc = torch.nn.Linear(input_dim, output_dim)\n",
        "\n",
        "\n",
        "    def forward(self,x) -> Tensor:\n",
        "        return nn.functional.sigmoid(self.fc(x))\n",
        "\n",
        "model = LinearClassifier(10,1)\n",
        "print(model)\n",
        "print(model.fc.weight)\n",
        "print(model.fc.bias)\n",
        "\n",
        "x = torch.zeros(10)\n",
        "model(x)\n",
        "\n"
      ],
      "metadata": {
        "colab": {
          "base_uri": "https://localhost:8080/"
        },
        "id": "pqiKPkaphKZD",
        "outputId": "5ccf856c-c4c1-43e1-a02a-ce4a18cfea9d"
      },
      "execution_count": 41,
      "outputs": [
        {
          "output_type": "stream",
          "name": "stdout",
          "text": [
            "LinearClassifier(\n",
            "  (fc): Linear(in_features=10, out_features=1, bias=True)\n",
            ")\n",
            "Parameter containing:\n",
            "tensor([[-0.1963, -0.1230, -0.0802, -0.2798,  0.1464, -0.0214, -0.0488, -0.2268,\n",
            "         -0.3092, -0.2100]], requires_grad=True)\n",
            "Parameter containing:\n",
            "tensor([-0.1971], requires_grad=True)\n"
          ]
        },
        {
          "output_type": "execute_result",
          "data": {
            "text/plain": [
              "tensor([0.4509], grad_fn=<SigmoidBackward0>)"
            ]
          },
          "metadata": {},
          "execution_count": 41
        }
      ]
    },
    {
      "cell_type": "code",
      "source": [
        "x = torch.rand(100,10)\n",
        "model(x)"
      ],
      "metadata": {
        "colab": {
          "base_uri": "https://localhost:8080/"
        },
        "id": "yUXoNIm-i5gE",
        "outputId": "a7b0e8b6-abc4-4e34-d0e1-e8aa91b48bd5"
      },
      "execution_count": 42,
      "outputs": [
        {
          "output_type": "execute_result",
          "data": {
            "text/plain": [
              "tensor([[0.2692],\n",
              "        [0.3431],\n",
              "        [0.3069],\n",
              "        [0.2674],\n",
              "        [0.2939],\n",
              "        [0.3825],\n",
              "        [0.2987],\n",
              "        [0.2498],\n",
              "        [0.2976],\n",
              "        [0.2412],\n",
              "        [0.2795],\n",
              "        [0.2507],\n",
              "        [0.2710],\n",
              "        [0.2961],\n",
              "        [0.3092],\n",
              "        [0.2698],\n",
              "        [0.3160],\n",
              "        [0.2679],\n",
              "        [0.3359],\n",
              "        [0.3053],\n",
              "        [0.2925],\n",
              "        [0.3003],\n",
              "        [0.3586],\n",
              "        [0.2712],\n",
              "        [0.2825],\n",
              "        [0.2917],\n",
              "        [0.3424],\n",
              "        [0.3393],\n",
              "        [0.2559],\n",
              "        [0.3016],\n",
              "        [0.3272],\n",
              "        [0.2505],\n",
              "        [0.3162],\n",
              "        [0.3236],\n",
              "        [0.3635],\n",
              "        [0.2685],\n",
              "        [0.2877],\n",
              "        [0.3259],\n",
              "        [0.2770],\n",
              "        [0.3099],\n",
              "        [0.2908],\n",
              "        [0.2697],\n",
              "        [0.2867],\n",
              "        [0.2393],\n",
              "        [0.3162],\n",
              "        [0.2700],\n",
              "        [0.3601],\n",
              "        [0.2931],\n",
              "        [0.2780],\n",
              "        [0.3691],\n",
              "        [0.2546],\n",
              "        [0.3485],\n",
              "        [0.3005],\n",
              "        [0.3164],\n",
              "        [0.3182],\n",
              "        [0.2889],\n",
              "        [0.3152],\n",
              "        [0.3386],\n",
              "        [0.2493],\n",
              "        [0.3543],\n",
              "        [0.3276],\n",
              "        [0.2620],\n",
              "        [0.3049],\n",
              "        [0.3306],\n",
              "        [0.2923],\n",
              "        [0.3339],\n",
              "        [0.3106],\n",
              "        [0.3363],\n",
              "        [0.3074],\n",
              "        [0.2695],\n",
              "        [0.3619],\n",
              "        [0.3660],\n",
              "        [0.2991],\n",
              "        [0.2968],\n",
              "        [0.2938],\n",
              "        [0.2756],\n",
              "        [0.2673],\n",
              "        [0.3255],\n",
              "        [0.3567],\n",
              "        [0.3700],\n",
              "        [0.3006],\n",
              "        [0.2796],\n",
              "        [0.3404],\n",
              "        [0.3184],\n",
              "        [0.3186],\n",
              "        [0.3601],\n",
              "        [0.2453],\n",
              "        [0.3189],\n",
              "        [0.3046],\n",
              "        [0.2627],\n",
              "        [0.3161],\n",
              "        [0.3521],\n",
              "        [0.3241],\n",
              "        [0.2936],\n",
              "        [0.2610],\n",
              "        [0.3253],\n",
              "        [0.3218],\n",
              "        [0.2604],\n",
              "        [0.3058],\n",
              "        [0.3222]], grad_fn=<SigmoidBackward0>)"
            ]
          },
          "metadata": {},
          "execution_count": 42
        }
      ]
    },
    {
      "cell_type": "code",
      "source": [],
      "metadata": {
        "id": "4IYj17qVmNBV"
      },
      "execution_count": null,
      "outputs": []
    }
  ]
}