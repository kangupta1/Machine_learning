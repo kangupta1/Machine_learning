{
  "cells": [
    {
      "cell_type": "code",
      "execution_count": 1,
      "id": "cf412976",
      "metadata": {
        "execution": {
          "iopub.execute_input": "2024-06-09T08:00:25.307711Z",
          "iopub.status.busy": "2024-06-09T08:00:25.307524Z",
          "iopub.status.idle": "2024-06-09T08:00:25.310273Z",
          "shell.execute_reply": "2024-06-09T08:00:25.309829Z"
        },
        "lines_to_next_cell": 0,
        "id": "cf412976"
      },
      "outputs": [],
      "source": [
        "#   title: Loss Functions in PyTorch"
      ]
    },
    {
      "cell_type": "code",
      "execution_count": 2,
      "id": "bbbe1835",
      "metadata": {
        "execution": {
          "iopub.execute_input": "2024-06-09T08:00:25.313755Z",
          "iopub.status.busy": "2024-06-09T08:00:25.313613Z",
          "iopub.status.idle": "2024-06-09T08:00:26.257851Z",
          "shell.execute_reply": "2024-06-09T08:00:26.257236Z"
        },
        "colab": {
          "base_uri": "https://localhost:8080/"
        },
        "id": "bbbe1835",
        "outputId": "8f97873f-8afb-4a03-b7c8-f1e3c8927f5c"
      },
      "outputs": [
        {
          "output_type": "stream",
          "name": "stdout",
          "text": [
            "tensor(1.3789, grad_fn=<SumBackward0>)\n"
          ]
        }
      ],
      "source": [
        "import torch\n",
        "\n",
        "# example of l2 loss function for linear regression\n",
        "\n",
        "\n",
        "def l2_loss(y_true, y_pred):\n",
        "    return torch.sum((y_true - y_pred) ** 2)\n",
        "\n",
        "\n",
        "linear = torch.nn.Linear(4, 1)\n",
        "x = torch.rand((1, 4))\n",
        "\n",
        "y_true = torch.as_tensor([1.0], dtype=torch.float32)\n",
        "y_pred = linear(x)\n",
        "\n",
        "print(l2_loss(y_true, y_pred))"
      ]
    },
    {
      "cell_type": "code",
      "execution_count": 3,
      "id": "2b7f556c",
      "metadata": {
        "execution": {
          "iopub.execute_input": "2024-06-09T08:00:26.262156Z",
          "iopub.status.busy": "2024-06-09T08:00:26.261913Z",
          "iopub.status.idle": "2024-06-09T08:00:26.268047Z",
          "shell.execute_reply": "2024-06-09T08:00:26.267411Z"
        },
        "colab": {
          "base_uri": "https://localhost:8080/"
        },
        "id": "2b7f556c",
        "outputId": "2893b578-29d9-4387-d941-33fcfda7d11f"
      },
      "outputs": [
        {
          "output_type": "stream",
          "name": "stdout",
          "text": [
            "tensor(0.5266, grad_fn=<BinaryCrossEntropyBackward0>)\n"
          ]
        }
      ],
      "source": [
        "import torch\n",
        "\n",
        "# example of binary cross entropy loss function for binary classification\n",
        "\n",
        "linear = torch.nn.Linear(4, 1)\n",
        "x = torch.rand((1, 4))\n",
        "\n",
        "y_true = torch.as_tensor([[1]], dtype=torch.float32)\n",
        "\n",
        "y_pred = torch.sigmoid(linear(x))\n",
        "\n",
        "loss_func = torch.nn.BCELoss()\n",
        "\n",
        "print(loss_func(y_pred, y_true))"
      ]
    },
    {
      "cell_type": "code",
      "execution_count": 4,
      "id": "d0f31c86",
      "metadata": {
        "execution": {
          "iopub.execute_input": "2024-06-09T08:00:26.270677Z",
          "iopub.status.busy": "2024-06-09T08:00:26.270521Z",
          "iopub.status.idle": "2024-06-09T08:00:26.276126Z",
          "shell.execute_reply": "2024-06-09T08:00:26.275546Z"
        },
        "colab": {
          "base_uri": "https://localhost:8080/"
        },
        "id": "d0f31c86",
        "outputId": "bc5d44ee-5869-428a-afde-f7c985119b8c"
      },
      "outputs": [
        {
          "output_type": "stream",
          "name": "stdout",
          "text": [
            "tensor(1.8393, grad_fn=<NllLossBackward0>)\n"
          ]
        }
      ],
      "source": [
        "import torch\n",
        "\n",
        "# example of multi-class cross entropy loss function for multi-class classification\n",
        "\n",
        "num_class = 3\n",
        "\n",
        "linear = torch.nn.Linear(4, num_class)\n",
        "x = torch.rand((1, 4))\n",
        "\n",
        "y_true = torch.as_tensor([2], dtype=torch.int64)\n",
        "\n",
        "y_pred = linear(x)\n",
        "\n",
        "loss_func = torch.nn.CrossEntropyLoss()\n",
        "\n",
        "print(loss_func(y_pred, y_true))"
      ]
    }
  ],
  "metadata": {
    "kernelspec": {
      "display_name": "Python 3",
      "language": "python",
      "name": "python3"
    },
    "language_info": {
      "codemirror_mode": {
        "name": "ipython",
        "version": 3
      },
      "file_extension": ".py",
      "mimetype": "text/x-python",
      "name": "python",
      "nbconvert_exporter": "python",
      "pygments_lexer": "ipython3",
      "version": "3.11.5"
    },
    "colab": {
      "provenance": []
    }
  },
  "nbformat": 4,
  "nbformat_minor": 5
}