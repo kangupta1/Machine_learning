{
  "nbformat": 4,
  "nbformat_minor": 0,
  "metadata": {
    "colab": {
      "provenance": [],
      "authorship_tag": "ABX9TyO9y0MaVli8yD8L9W03BdXV"
    },
    "kernelspec": {
      "name": "python3",
      "display_name": "Python 3"
    },
    "language_info": {
      "name": "python"
    }
  },
  "cells": [
    {
      "cell_type": "code",
      "source": [
        "from datetime import datetime\n",
        "from pathlib import Path\n",
        "\n",
        "import torch\n",
        "import torch.utils.tensorboard as tb"
      ],
      "metadata": {
        "id": "CVlhTRduwDU8"
      },
      "execution_count": 19,
      "outputs": []
    },
    {
      "cell_type": "code",
      "source": [],
      "metadata": {
        "id": "KbHvYi9h1CPs"
      },
      "execution_count": null,
      "outputs": []
    },
    {
      "cell_type": "code",
      "source": [
        "def test_logging(logger: tb.SummaryWriter):\n",
        "    \"\"\"\n",
        "    Your code here - finish logging the dummy loss and accuracy\n",
        "\n",
        "    For training, log the training loss every iteration and the average accuracy every epoch\n",
        "    Call the loss 'train_loss' and accuracy 'train_accuracy'\n",
        "\n",
        "    For validation, log only the average accuracy every epoch\n",
        "    Call the accuracy 'val_accuracy'\n",
        "\n",
        "    Make sure the logging is in the correct spot so the global_step is set correctly,\n",
        "    for epoch=0, iteration=0: global_step=0\n",
        "    \"\"\"\n",
        "    # strongly simplified training loop\n",
        "    global_step = 0\n",
        "    for epoch in range(10):\n",
        "        metrics = {\"train_acc\": [], \"val_acc\": []}\n",
        "\n",
        "        # example training loop\n",
        "        torch.manual_seed(epoch)\n",
        "        for iteration in range(20):\n",
        "            dummy_train_loss = 0.9 ** (epoch + iteration / 20.0)\n",
        "            dummy_train_accuracy = epoch / 10.0 + torch.randn(10)\n",
        "\n",
        "            # TODO: log train_loss\n",
        "            logger.add_scalar(\"train_loss\", dummy_train_loss, global_step=global_step)\n",
        "            # TODO: save additional metrics to be averaged\n",
        "            metrics[\"train_acc\"].append(dummy_train_accuracy)\n",
        "            global_step += 1\n",
        "\n",
        "        # TODO: calculate and log average train_accuracy\n",
        "        avg_train_acc = torch.mean(torch.stack(metrics[\"train_acc\"]))\n",
        "        logger.add_scalar(\"train_accuracy\", avg_train_acc, global_step=epoch)\n",
        "\n",
        "\n",
        "        # example validation loop\n",
        "        torch.manual_seed(epoch)\n",
        "        for iteration in range(10):\n",
        "            dummy_validation_accuracy = epoch / 10.0 + torch.randn(10)\n",
        "            metrics[\"val_acc\"].append(dummy_validation_accuracy)\n",
        "\n",
        "        # TODO: log val_accuracy\n",
        "        avg_val_acc = torch.mean(torch.stack(metrics[\"val_acc\"])) # Calculate average validation accuracy\n",
        "        logger.add_scalar(\"val_accuracy\", avg_val_acc, global_step=epoch) # Log average validation accuracy"
      ],
      "metadata": {
        "id": "KGPYQXa7wVJq"
      },
      "execution_count": 26,
      "outputs": []
    },
    {
      "cell_type": "code",
      "source": [
        "if __name__ == \"__main__\":\n",
        "    from argparse import ArgumentParser\n",
        "\n",
        "    parser = ArgumentParser()\n",
        "    parser.add_argument(\"--exp_dir\", type=str, default=\"logs\")\n",
        "    args, unknown = parser.parse_known_args() # Modified to parse_known_args\n",
        "\n",
        "    log_dir = Path(args.exp_dir) / f\"logger_{datetime.now().strftime('%m%d_%H%M%S')}\"\n",
        "    logger = tb.SummaryWriter(log_dir)\n",
        "\n",
        "    test_logging(logger)"
      ],
      "metadata": {
        "collapsed": true,
        "id": "UtAml2RUzM_R"
      },
      "execution_count": 28,
      "outputs": []
    },
    {
      "cell_type": "code",
      "source": [],
      "metadata": {
        "id": "rtHQkXa5zbVb"
      },
      "execution_count": null,
      "outputs": []
    }
  ]
}