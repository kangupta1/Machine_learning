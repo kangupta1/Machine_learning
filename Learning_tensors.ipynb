{
  "nbformat": 4,
  "nbformat_minor": 0,
  "metadata": {
    "colab": {
      "provenance": [],
      "authorship_tag": "ABX9TyMcA/z974Tcqv5ClmzjMjYq"
    },
    "kernelspec": {
      "name": "python3",
      "display_name": "Python 3"
    },
    "language_info": {
      "name": "python"
    }
  },
  "cells": [
    {
      "cell_type": "code",
      "execution_count": 4,
      "metadata": {
        "colab": {
          "base_uri": "https://localhost:8080/",
          "height": 74
        },
        "id": "m-Zde3AlTLBw",
        "outputId": "e89f79a0-7224-49a2-bd82-2a9e74f21073"
      },
      "outputs": [
        {
          "output_type": "display_data",
          "data": {
            "text/plain": [
              "<IPython.core.display.HTML object>"
            ],
            "text/html": [
              "\n",
              "     <input type=\"file\" id=\"files-7772922a-cffd-48ec-ab5d-fff5f6047f54\" name=\"files[]\" multiple disabled\n",
              "        style=\"border:none\" />\n",
              "     <output id=\"result-7772922a-cffd-48ec-ab5d-fff5f6047f54\">\n",
              "      Upload widget is only available when the cell has been executed in the\n",
              "      current browser session. Please rerun this cell to enable.\n",
              "      </output>\n",
              "      <script>// Copyright 2017 Google LLC\n",
              "//\n",
              "// Licensed under the Apache License, Version 2.0 (the \"License\");\n",
              "// you may not use this file except in compliance with the License.\n",
              "// You may obtain a copy of the License at\n",
              "//\n",
              "//      http://www.apache.org/licenses/LICENSE-2.0\n",
              "//\n",
              "// Unless required by applicable law or agreed to in writing, software\n",
              "// distributed under the License is distributed on an \"AS IS\" BASIS,\n",
              "// WITHOUT WARRANTIES OR CONDITIONS OF ANY KIND, either express or implied.\n",
              "// See the License for the specific language governing permissions and\n",
              "// limitations under the License.\n",
              "\n",
              "/**\n",
              " * @fileoverview Helpers for google.colab Python module.\n",
              " */\n",
              "(function(scope) {\n",
              "function span(text, styleAttributes = {}) {\n",
              "  const element = document.createElement('span');\n",
              "  element.textContent = text;\n",
              "  for (const key of Object.keys(styleAttributes)) {\n",
              "    element.style[key] = styleAttributes[key];\n",
              "  }\n",
              "  return element;\n",
              "}\n",
              "\n",
              "// Max number of bytes which will be uploaded at a time.\n",
              "const MAX_PAYLOAD_SIZE = 100 * 1024;\n",
              "\n",
              "function _uploadFiles(inputId, outputId) {\n",
              "  const steps = uploadFilesStep(inputId, outputId);\n",
              "  const outputElement = document.getElementById(outputId);\n",
              "  // Cache steps on the outputElement to make it available for the next call\n",
              "  // to uploadFilesContinue from Python.\n",
              "  outputElement.steps = steps;\n",
              "\n",
              "  return _uploadFilesContinue(outputId);\n",
              "}\n",
              "\n",
              "// This is roughly an async generator (not supported in the browser yet),\n",
              "// where there are multiple asynchronous steps and the Python side is going\n",
              "// to poll for completion of each step.\n",
              "// This uses a Promise to block the python side on completion of each step,\n",
              "// then passes the result of the previous step as the input to the next step.\n",
              "function _uploadFilesContinue(outputId) {\n",
              "  const outputElement = document.getElementById(outputId);\n",
              "  const steps = outputElement.steps;\n",
              "\n",
              "  const next = steps.next(outputElement.lastPromiseValue);\n",
              "  return Promise.resolve(next.value.promise).then((value) => {\n",
              "    // Cache the last promise value to make it available to the next\n",
              "    // step of the generator.\n",
              "    outputElement.lastPromiseValue = value;\n",
              "    return next.value.response;\n",
              "  });\n",
              "}\n",
              "\n",
              "/**\n",
              " * Generator function which is called between each async step of the upload\n",
              " * process.\n",
              " * @param {string} inputId Element ID of the input file picker element.\n",
              " * @param {string} outputId Element ID of the output display.\n",
              " * @return {!Iterable<!Object>} Iterable of next steps.\n",
              " */\n",
              "function* uploadFilesStep(inputId, outputId) {\n",
              "  const inputElement = document.getElementById(inputId);\n",
              "  inputElement.disabled = false;\n",
              "\n",
              "  const outputElement = document.getElementById(outputId);\n",
              "  outputElement.innerHTML = '';\n",
              "\n",
              "  const pickedPromise = new Promise((resolve) => {\n",
              "    inputElement.addEventListener('change', (e) => {\n",
              "      resolve(e.target.files);\n",
              "    });\n",
              "  });\n",
              "\n",
              "  const cancel = document.createElement('button');\n",
              "  inputElement.parentElement.appendChild(cancel);\n",
              "  cancel.textContent = 'Cancel upload';\n",
              "  const cancelPromise = new Promise((resolve) => {\n",
              "    cancel.onclick = () => {\n",
              "      resolve(null);\n",
              "    };\n",
              "  });\n",
              "\n",
              "  // Wait for the user to pick the files.\n",
              "  const files = yield {\n",
              "    promise: Promise.race([pickedPromise, cancelPromise]),\n",
              "    response: {\n",
              "      action: 'starting',\n",
              "    }\n",
              "  };\n",
              "\n",
              "  cancel.remove();\n",
              "\n",
              "  // Disable the input element since further picks are not allowed.\n",
              "  inputElement.disabled = true;\n",
              "\n",
              "  if (!files) {\n",
              "    return {\n",
              "      response: {\n",
              "        action: 'complete',\n",
              "      }\n",
              "    };\n",
              "  }\n",
              "\n",
              "  for (const file of files) {\n",
              "    const li = document.createElement('li');\n",
              "    li.append(span(file.name, {fontWeight: 'bold'}));\n",
              "    li.append(span(\n",
              "        `(${file.type || 'n/a'}) - ${file.size} bytes, ` +\n",
              "        `last modified: ${\n",
              "            file.lastModifiedDate ? file.lastModifiedDate.toLocaleDateString() :\n",
              "                                    'n/a'} - `));\n",
              "    const percent = span('0% done');\n",
              "    li.appendChild(percent);\n",
              "\n",
              "    outputElement.appendChild(li);\n",
              "\n",
              "    const fileDataPromise = new Promise((resolve) => {\n",
              "      const reader = new FileReader();\n",
              "      reader.onload = (e) => {\n",
              "        resolve(e.target.result);\n",
              "      };\n",
              "      reader.readAsArrayBuffer(file);\n",
              "    });\n",
              "    // Wait for the data to be ready.\n",
              "    let fileData = yield {\n",
              "      promise: fileDataPromise,\n",
              "      response: {\n",
              "        action: 'continue',\n",
              "      }\n",
              "    };\n",
              "\n",
              "    // Use a chunked sending to avoid message size limits. See b/62115660.\n",
              "    let position = 0;\n",
              "    do {\n",
              "      const length = Math.min(fileData.byteLength - position, MAX_PAYLOAD_SIZE);\n",
              "      const chunk = new Uint8Array(fileData, position, length);\n",
              "      position += length;\n",
              "\n",
              "      const base64 = btoa(String.fromCharCode.apply(null, chunk));\n",
              "      yield {\n",
              "        response: {\n",
              "          action: 'append',\n",
              "          file: file.name,\n",
              "          data: base64,\n",
              "        },\n",
              "      };\n",
              "\n",
              "      let percentDone = fileData.byteLength === 0 ?\n",
              "          100 :\n",
              "          Math.round((position / fileData.byteLength) * 100);\n",
              "      percent.textContent = `${percentDone}% done`;\n",
              "\n",
              "    } while (position < fileData.byteLength);\n",
              "  }\n",
              "\n",
              "  // All done.\n",
              "  yield {\n",
              "    response: {\n",
              "      action: 'complete',\n",
              "    }\n",
              "  };\n",
              "}\n",
              "\n",
              "scope.google = scope.google || {};\n",
              "scope.google.colab = scope.google.colab || {};\n",
              "scope.google.colab._files = {\n",
              "  _uploadFiles,\n",
              "  _uploadFilesContinue,\n",
              "};\n",
              "})(self);\n",
              "</script> "
            ]
          },
          "metadata": {}
        },
        {
          "output_type": "stream",
          "name": "stdout",
          "text": [
            "Saving Kanchan Gupta.jpg to Kanchan Gupta.jpg\n"
          ]
        }
      ],
      "source": [
        "from PIL import Image\n",
        "import numpy as np\n",
        "import torch\n",
        "from google.colab import files\n",
        "uploaded = files.upload()\n"
      ]
    },
    {
      "cell_type": "code",
      "source": [
        "img = Image.open('Kanchan Gupta.jpg')\n",
        "c = torch.as_tensor(np.array(img)).float()\n"
      ],
      "metadata": {
        "id": "bVV4BnSTTOll"
      },
      "execution_count": 10,
      "outputs": []
    },
    {
      "cell_type": "code",
      "source": [
        "#print the shape of the tensor\n",
        "print(c.shape)"
      ],
      "metadata": {
        "colab": {
          "base_uri": "https://localhost:8080/"
        },
        "id": "8XwVPjmNTpD1",
        "outputId": "05456595-3426-485c-9160-44afc73c6f72"
      },
      "execution_count": 8,
      "outputs": [
        {
          "output_type": "stream",
          "name": "stdout",
          "text": [
            "torch.Size([859, 722, 3])\n"
          ]
        }
      ]
    },
    {
      "cell_type": "code",
      "source": [
        "#print the data type\n",
        "print(c.dtype)"
      ],
      "metadata": {
        "colab": {
          "base_uri": "https://localhost:8080/"
        },
        "id": "0Kz4pzkGVf5e",
        "outputId": "2f2c768f-4354-4ab1-ed04-ce0ee18af506"
      },
      "execution_count": 11,
      "outputs": [
        {
          "output_type": "stream",
          "name": "stdout",
          "text": [
            "torch.float32\n"
          ]
        }
      ]
    },
    {
      "cell_type": "code",
      "source": [
        "#Basic Operations for tensors\n",
        "a = torch.arange(10)\n",
        "b = torch.ones(10)\n",
        "print(f'{a = }')\n",
        "print(f'{b = }')\n",
        "\n",
        "#add the tensors (same can be done for subtract, multiply and divide) - addition can be only done on the tensors with the same shape, expect broadcasting\n",
        "c = a + b\n",
        "print(f'{c = }')"
      ],
      "metadata": {
        "colab": {
          "base_uri": "https://localhost:8080/"
        },
        "id": "evkpZQC1Vqss",
        "outputId": "7fbb0b40-c6bc-4569-9d84-87e29cd381b8"
      },
      "execution_count": 15,
      "outputs": [
        {
          "output_type": "stream",
          "name": "stdout",
          "text": [
            "a = tensor([0, 1, 2, 3, 4, 5, 6, 7, 8, 9])\n",
            "b = tensor([1., 1., 1., 1., 1., 1., 1., 1., 1., 1.])\n",
            "c = tensor([ 1.,  2.,  3.,  4.,  5.,  6.,  7.,  8.,  9., 10.])\n"
          ]
        }
      ]
    },
    {
      "cell_type": "code",
      "source": [
        "#timing the operation for tensors\n",
        "\n",
        "%timeit a + b"
      ],
      "metadata": {
        "colab": {
          "base_uri": "https://localhost:8080/"
        },
        "id": "oh6LrAaKWO2j",
        "outputId": "f0d33700-4e92-427e-f02c-a8215f746b7a"
      },
      "execution_count": 16,
      "outputs": [
        {
          "output_type": "stream",
          "name": "stdout",
          "text": [
            "5.18 µs ± 63.9 ns per loop (mean ± std. dev. of 7 runs, 100000 loops each)\n"
          ]
        }
      ]
    },
    {
      "cell_type": "code",
      "source": [
        "#manipulating tensors and shape\n",
        "\n",
        "a = torch.arange(6)\n",
        "print(a.shape)\n",
        "\n",
        "#now view as 2 by 3 - do not copy the underlying data\n",
        "print(a.view(2,3))\n",
        "\n",
        "#using reshape - copy the underlying data as well\n",
        "print(a.reshape(2,3))"
      ],
      "metadata": {
        "colab": {
          "base_uri": "https://localhost:8080/"
        },
        "id": "kT_eLz9eXhRK",
        "outputId": "106be308-1445-4107-fb9c-8705da8ed7dd"
      },
      "execution_count": 19,
      "outputs": [
        {
          "output_type": "stream",
          "name": "stdout",
          "text": [
            "torch.Size([6])\n",
            "tensor([[0, 1, 2],\n",
            "        [3, 4, 5]])\n",
            "tensor([[0, 1, 2],\n",
            "        [3, 4, 5]])\n"
          ]
        }
      ]
    },
    {
      "cell_type": "code",
      "source": [
        "#Basic Liner algebra with tensors\n",
        "#transpose a matric\n",
        "\n",
        "a = torch.rand(2,3)\n",
        "print(a)\n",
        "\n",
        "print(a.mT)  # mt for matrix transpose"
      ],
      "metadata": {
        "colab": {
          "base_uri": "https://localhost:8080/"
        },
        "id": "dQK-LY2HYJNS",
        "outputId": "3c880aac-a476-4306-e1c9-08b4d837d935"
      },
      "execution_count": 25,
      "outputs": [
        {
          "output_type": "stream",
          "name": "stdout",
          "text": [
            "tensor([[0.1454, 0.1392, 0.6257],\n",
            "        [0.4531, 0.4068, 0.1734]])\n",
            "tensor([[0.1454, 0.4531],\n",
            "        [0.1392, 0.4068],\n",
            "        [0.6257, 0.1734]])\n"
          ]
        }
      ]
    },
    {
      "cell_type": "code",
      "source": [
        "#Permuter function\n",
        "\n",
        "a = torch.rand(2,3,4)\n",
        "print(a)\n",
        "\n",
        "print(a.permute(2,0,1)) #data in 3 position will be in first, data in first will be in second and data in second will be in third - (4,2,3) - new shape\n",
        "print(a.permute(2,0,1).shape)"
      ],
      "metadata": {
        "colab": {
          "base_uri": "https://localhost:8080/"
        },
        "id": "WRPtzeIDY5bf",
        "outputId": "4ffc1e14-6d92-455f-e8fd-e2faedd695c3"
      },
      "execution_count": 27,
      "outputs": [
        {
          "output_type": "stream",
          "name": "stdout",
          "text": [
            "tensor([[[0.4293, 0.5570, 0.1574, 0.7014],\n",
            "         [0.1382, 0.8327, 0.9571, 0.5664],\n",
            "         [0.6480, 0.0759, 0.3098, 0.0702]],\n",
            "\n",
            "        [[0.1688, 0.7852, 0.1507, 0.0011],\n",
            "         [0.4401, 0.6244, 0.0846, 0.5533],\n",
            "         [0.1226, 0.5464, 0.1229, 0.5828]]])\n",
            "tensor([[[0.4293, 0.1382, 0.6480],\n",
            "         [0.1688, 0.4401, 0.1226]],\n",
            "\n",
            "        [[0.5570, 0.8327, 0.0759],\n",
            "         [0.7852, 0.6244, 0.5464]],\n",
            "\n",
            "        [[0.1574, 0.9571, 0.3098],\n",
            "         [0.1507, 0.0846, 0.1229]],\n",
            "\n",
            "        [[0.7014, 0.5664, 0.0702],\n",
            "         [0.0011, 0.5533, 0.5828]]])\n",
            "torch.Size([4, 2, 3])\n"
          ]
        }
      ]
    },
    {
      "cell_type": "code",
      "source": [
        "#learning none\n",
        "a = torch.arange(6).view(3,2)\n",
        "print(a[...,None,:,None])\n",
        "print(a[...,None,:,None].shape)"
      ],
      "metadata": {
        "colab": {
          "base_uri": "https://localhost:8080/"
        },
        "id": "veAZgl9SaC9Y",
        "outputId": "524d8cf0-ef12-425d-dfff-489f738b2fa3"
      },
      "execution_count": 31,
      "outputs": [
        {
          "output_type": "stream",
          "name": "stdout",
          "text": [
            "tensor([[[[0],\n",
            "          [1]]],\n",
            "\n",
            "\n",
            "        [[[2],\n",
            "          [3]]],\n",
            "\n",
            "\n",
            "        [[[4],\n",
            "          [5]]]])\n",
            "torch.Size([3, 1, 2, 1])\n"
          ]
        }
      ]
    },
    {
      "cell_type": "code",
      "source": [
        "#squeezing tensors\n",
        "a = torch.arange(6).view(3,2,1,1)\n",
        "print(a)\n",
        "print(a.shape)\n",
        "print(a[...,0].shape) # or use print(a.squeeze(-1).shape) - to remove the last dimension"
      ],
      "metadata": {
        "colab": {
          "base_uri": "https://localhost:8080/"
        },
        "id": "OZ84exDsbK-y",
        "outputId": "64a16a46-eb95-4a14-dd53-65af39cf0305"
      },
      "execution_count": 37,
      "outputs": [
        {
          "output_type": "stream",
          "name": "stdout",
          "text": [
            "tensor([[[[0]],\n",
            "\n",
            "         [[1]]],\n",
            "\n",
            "\n",
            "        [[[2]],\n",
            "\n",
            "         [[3]]],\n",
            "\n",
            "\n",
            "        [[[4]],\n",
            "\n",
            "         [[5]]]])\n",
            "torch.Size([3, 2, 1, 1])\n",
            "torch.Size([3, 2, 1])\n"
          ]
        }
      ]
    },
    {
      "cell_type": "code",
      "source": [
        "#Broadcasting\n",
        "\n",
        "#simple example of broadcasting\n",
        "\n",
        "x = torch.randn(10,2)\n",
        "d = torch.zeros(10,10)\n",
        "for i in range(10):\n",
        "  for j in range(10):\n",
        "    d[i,j] = (x[i]-x[j]).pow(2).sum()\n",
        "print(d)\n",
        "\n",
        "#use broadcasting to calculate the above\n",
        "d = (x[:,None,:] - x[None,:,:]).pow(2).sum(-1)\n",
        "print(d)"
      ],
      "metadata": {
        "colab": {
          "base_uri": "https://localhost:8080/"
        },
        "id": "CVQfAucxbn0k",
        "outputId": "6e98c225-b5ad-4d1a-d52b-001192341dba"
      },
      "execution_count": 40,
      "outputs": [
        {
          "output_type": "stream",
          "name": "stdout",
          "text": [
            "tensor([[ 0.0000,  2.4585,  0.3176,  2.4646,  4.9265, 14.4496,  3.1454,  4.6526,\n",
            "         13.4603, 10.0943],\n",
            "        [ 2.4585,  0.0000,  3.6790,  0.1118,  0.9441,  5.3397,  0.4260,  9.7599,\n",
            "          4.4357,  2.8832],\n",
            "        [ 0.3176,  3.6790,  0.0000,  3.3434,  7.2421, 17.7800,  3.7865,  6.4069,\n",
            "         15.6669, 11.4456],\n",
            "        [ 2.4646,  0.1118,  3.3434,  0.0000,  1.6484,  6.2045,  0.1127, 11.0296,\n",
            "          4.5377,  2.5877],\n",
            "        [ 4.9265,  0.9441,  7.2421,  1.6484,  0.0000,  2.6792,  2.3787,  9.7090,\n",
            "          3.7263,  3.6429],\n",
            "        [14.4496,  5.3397, 17.7800,  6.2045,  2.6792,  0.0000,  6.6002, 21.6941,\n",
            "          1.3089,  3.1982],\n",
            "        [ 3.1454,  0.4260,  3.7865,  0.1127,  2.3787,  6.6002,  0.0000, 13.1572,\n",
            "          4.2198,  2.0657],\n",
            "        [ 4.6526,  9.7599,  6.4069, 11.0296,  9.7090, 21.6941, 13.1572,  0.0000,\n",
            "         25.1991, 22.9956],\n",
            "        [13.4603,  4.4357, 15.6669,  4.5377,  3.7263,  1.3089,  4.2198, 25.1991,\n",
            "          0.0000,  0.6249],\n",
            "        [10.0943,  2.8832, 11.4456,  2.5877,  3.6429,  3.1982,  2.0657, 22.9956,\n",
            "          0.6249,  0.0000]])\n",
            "tensor([[ 0.0000,  2.4585,  0.3176,  2.4646,  4.9265, 14.4496,  3.1454,  4.6526,\n",
            "         13.4603, 10.0943],\n",
            "        [ 2.4585,  0.0000,  3.6790,  0.1118,  0.9441,  5.3397,  0.4260,  9.7599,\n",
            "          4.4357,  2.8832],\n",
            "        [ 0.3176,  3.6790,  0.0000,  3.3434,  7.2421, 17.7800,  3.7865,  6.4069,\n",
            "         15.6669, 11.4456],\n",
            "        [ 2.4646,  0.1118,  3.3434,  0.0000,  1.6484,  6.2045,  0.1127, 11.0296,\n",
            "          4.5377,  2.5877],\n",
            "        [ 4.9265,  0.9441,  7.2421,  1.6484,  0.0000,  2.6792,  2.3787,  9.7090,\n",
            "          3.7263,  3.6429],\n",
            "        [14.4496,  5.3397, 17.7800,  6.2045,  2.6792,  0.0000,  6.6002, 21.6941,\n",
            "          1.3089,  3.1982],\n",
            "        [ 3.1454,  0.4260,  3.7865,  0.1127,  2.3787,  6.6002,  0.0000, 13.1572,\n",
            "          4.2198,  2.0657],\n",
            "        [ 4.6526,  9.7599,  6.4069, 11.0296,  9.7090, 21.6941, 13.1572,  0.0000,\n",
            "         25.1991, 22.9956],\n",
            "        [13.4603,  4.4357, 15.6669,  4.5377,  3.7263,  1.3089,  4.2198, 25.1991,\n",
            "          0.0000,  0.6249],\n",
            "        [10.0943,  2.8832, 11.4456,  2.5877,  3.6429,  3.1982,  2.0657, 22.9956,\n",
            "          0.6249,  0.0000]])\n"
          ]
        }
      ]
    },
    {
      "cell_type": "code",
      "source": [],
      "metadata": {
        "id": "LrTemT0PtXbn"
      },
      "execution_count": null,
      "outputs": []
    },
    {
      "cell_type": "markdown",
      "source": [
        "Matrix multiplication"
      ],
      "metadata": {
        "id": "zC4ifsuNvH9B"
      }
    },
    {
      "cell_type": "code",
      "source": [
        "a = torch.rand(2,4)\n",
        "b = torch.rand(4,3)\n",
        "print(a)\n",
        "print(b)\n",
        "c = a @ b\n",
        "print(c.shape)\n",
        "\n",
        "#print the norm\n",
        "print(torch.linalg.norm(c))\n"
      ],
      "metadata": {
        "colab": {
          "base_uri": "https://localhost:8080/"
        },
        "id": "5tYqvAcJvKeL",
        "outputId": "ffc71b2a-a285-4ebd-aabe-807f13067c3c"
      },
      "execution_count": 47,
      "outputs": [
        {
          "output_type": "stream",
          "name": "stdout",
          "text": [
            "tensor([[0.7130, 0.1250, 0.0142, 0.9029],\n",
            "        [0.5756, 0.5339, 0.2957, 0.1340]])\n",
            "tensor([[7.3861e-01, 7.4933e-01, 4.2588e-01],\n",
            "        [7.1191e-01, 1.3798e-01, 2.5774e-01],\n",
            "        [2.3048e-01, 9.5929e-01, 8.2024e-01],\n",
            "        [1.8197e-02, 1.3512e-01, 2.6882e-04]])\n",
            "torch.Size([2, 3])\n",
            "tensor(1.6750)\n"
          ]
        }
      ]
    },
    {
      "cell_type": "code",
      "source": [],
      "metadata": {
        "id": "IJnAPuJ5vVVa"
      },
      "execution_count": null,
      "outputs": []
    }
  ]
}