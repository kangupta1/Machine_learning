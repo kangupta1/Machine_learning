{
  "nbformat": 4,
  "nbformat_minor": 0,
  "metadata": {
    "colab": {
      "provenance": [],
      "authorship_tag": "ABX9TyN7vXy7m61kwIIAhpU/7/yH"
    },
    "kernelspec": {
      "name": "python3",
      "display_name": "Python 3"
    },
    "language_info": {
      "name": "python"
    }
  },
  "cells": [
    {
      "cell_type": "code",
      "execution_count": 2,
      "metadata": {
        "colab": {
          "base_uri": "https://localhost:8080/"
        },
        "id": "bJ9G5GhSV0d-",
        "outputId": "d13a4101-2d74-4e6b-b718-5c67f0d4600b"
      },
      "outputs": [
        {
          "output_type": "stream",
          "name": "stdout",
          "text": [
            "(3, 2)\n"
          ]
        }
      ],
      "source": [
        "import numpy as np\n",
        "\n",
        "a=np.array([1, 2, 3])\n",
        "b=np.array([4, 5, 6])\n",
        "\n",
        "c=np.stack((a, b), axis=1)\n",
        "print(c.shape)"
      ]
    },
    {
      "cell_type": "code",
      "metadata": {
        "colab": {
          "base_uri": "https://localhost:8080/"
        },
        "id": "d6fc6b48",
        "outputId": "fb9b535a-52bb-4dcb-fcff-9353b12ce447"
      },
      "source": [
        "import pandas as pd\n",
        "\n",
        "# Create a sample DataFrame\n",
        "data = {'A': [5, 12, 8, 15, 3],\n",
        "        'B': ['abc123', 'abcdef', 'ghi', 'jkl', 'mnoabc']}\n",
        "df = pd.DataFrame(data)\n",
        "\n",
        "# Filter the DataFrame where column 'A' is greater than 10\n",
        "#filtered_df = df[df['A'] > 10]\n",
        "\n",
        "# Display the filtered DataFrame\n",
        "#display(filtered_df)\n",
        "\n",
        "filter_data = df[(df['A'] > 5) & (df['B'].str.contains('abc'))]\n",
        "print(filter_data)\n",
        "\n"
      ],
      "execution_count": 12,
      "outputs": [
        {
          "output_type": "stream",
          "name": "stdout",
          "text": [
            "    A       B\n",
            "1  12  abcdef\n"
          ]
        }
      ]
    },
    {
      "cell_type": "code",
      "source": [
        "import pandas as pd\n",
        "\n",
        "# Sample DataFrame\n",
        "data = {\n",
        "    'A': [3, 6, 7, 2, 9],\n",
        "    'B': ['abc123', 'xyzabc', '123xyz', 'abcdef', 'noabc']\n",
        "}\n",
        "\n",
        "df = pd.DataFrame(data)\n",
        "\n",
        "# Apply filter: A > 5 and B contains 'abc'\n",
        "filtered_df = df[(df['A'] > 5) & (df['B'].str.contains('abc'))]\n",
        "\n",
        "print(\"Filtered DataFrame:\")\n",
        "print(filtered_df)\n"
      ],
      "metadata": {
        "colab": {
          "base_uri": "https://localhost:8080/"
        },
        "id": "8pJL9bAHWx0J",
        "outputId": "2e2e6037-9dd8-44df-c282-49da9e14de83"
      },
      "execution_count": 13,
      "outputs": [
        {
          "output_type": "stream",
          "name": "stdout",
          "text": [
            "Filtered DataFrame:\n",
            "   A       B\n",
            "1  6  xyzabc\n",
            "4  9   noabc\n"
          ]
        }
      ]
    }
  ]
}