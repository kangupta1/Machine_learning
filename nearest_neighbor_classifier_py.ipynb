{
  "nbformat": 4,
  "nbformat_minor": 0,
  "metadata": {
    "colab": {
      "provenance": [],
      "authorship_tag": "ABX9TyMFDggZmUuDHuR8qWG/45dt"
    },
    "kernelspec": {
      "name": "python3",
      "display_name": "Python 3"
    },
    "language_info": {
      "name": "python"
    }
  },
  "cells": [
    {
      "cell_type": "code",
      "execution_count": 12,
      "metadata": {
        "id": "6GRooWvlWBic"
      },
      "outputs": [],
      "source": [
        "import torch\n",
        "\n",
        "\n",
        "class NearestNeighborClassifier:\n",
        "    \"\"\"\n",
        "    A class to perform nearest neighbor classification.\n",
        "    \"\"\"\n",
        "\n",
        "    def __init__(self, x: list[list[float]], y: list[float]):\n",
        "        \"\"\"\n",
        "        Store the data and labels to be used for nearest neighbor classification.\n",
        "        You do not have to modify this function, but you will need to implement the functions it calls.\n",
        "\n",
        "        Args:\n",
        "            x: list of lists of floats, data\n",
        "            y: list of floats, labels\n",
        "        \"\"\"\n",
        "        self.data, self.label = self.make_data(x, y)\n",
        "        self.data_mean, self.data_std = self.compute_data_statistics(self.data)\n",
        "        self.data_normalized = self.input_normalization(self.data)\n",
        ""
      ]
    },
    {
      "cell_type": "code",
      "source": [
        "    @classmethod\n",
        "    def make_data(cls, x: list[list[float]], y: list[float]) -> tuple[torch.Tensor, torch.Tensor]:\n",
        "        \"\"\"\n",
        "        Warmup: Convert the data into PyTorch tensors.\n",
        "        Assumptions:\n",
        "        - len(x) == len(y)\n",
        "\n",
        "        Args:\n",
        "            x: list of lists of floats, data\n",
        "            y: list of floats, labels\n",
        "\n",
        "        Returns:\n",
        "            tuple of x and y both torch.Tensor's.\n",
        "        \"\"\"\n",
        "        # Convert the lists to tensors\n",
        "        data_tensor_x = torch.tensor(x, dtype=torch.float32)\n",
        "        label_tensor_y = torch.tensor(y, dtype=torch.float32)\n",
        "\n",
        "        return data_tensor_x, label_tensor_y"
      ],
      "metadata": {
        "id": "AE7DMGYUWgnC"
      },
      "execution_count": 13,
      "outputs": []
    },
    {
      "cell_type": "code",
      "source": [
        "   @classmethod\n",
        "   def compute_data_statistics(cls, x: torch.Tensor) -> tuple[torch.Tensor, torch.Tensor]:\n",
        "        \"\"\"\n",
        "        Compute the mean and standard deviation of the data.\n",
        "        Each row denotes a single data point.\n",
        "\n",
        "        Args:\n",
        "            x: 2D tensor data shape = [N, D]\n",
        "\n",
        "        Returns:\n",
        "            tuple of mean and standard deviation of the data.\n",
        "            Both should have a shape [1, D]\n",
        "        \"\"\"\n",
        "        # Calculate the mean for each feature (column) across all data points (rows)\n",
        "        # We use dim=0 to operate along the rows.\n",
        "        # keepdim=True ensures the output shape is [1, D] instead of collapsing to [D].\n",
        "        data_mean = x.mean(dim=0, keepdim=True)\n",
        "\n",
        "        # Calculate the standard deviation for each feature (column)\n",
        "        data_std = x.std(dim=0, keepdim=True)\n",
        "\n",
        "        return data_mean, data_std"
      ],
      "metadata": {
        "id": "_V1aFnMvWm77"
      },
      "execution_count": 15,
      "outputs": []
    },
    {
      "cell_type": "code",
      "source": [
        "    def input_normalization(self, x: torch.Tensor) -> torch.Tensor:\n",
        "        \"\"\"\n",
        "        Normalize the input x using the mean and std computed from the data in __init__\n",
        "\n",
        "        Args:\n",
        "            x: 1D or 2D tensor shape = [D] or [N, D]\n",
        "\n",
        "        Returns:\n",
        "            normalized 2D tensor shape = x.shape\n",
        "        \"\"\"\n",
        "\n",
        "        return (x - self.data_mean) / self.data_std"
      ],
      "metadata": {
        "id": "VfQnZK6hhRd5"
      },
      "execution_count": 16,
      "outputs": []
    },
    {
      "cell_type": "code",
      "source": [
        "    def get_nearest_neighbor(self, x: torch.Tensor) -> tuple[torch.Tensor, torch.Tensor]:\n",
        "        \"\"\"\n",
        "        Find the input x's nearest neighbor and the corresponding label.\n",
        "\n",
        "        Args:\n",
        "            x: 1D tensor shape = [D]\n",
        "\n",
        "        Returns:\n",
        "            tuple of the nearest neighbor data point [D] and its label [1]\n",
        "        \"\"\"\n",
        "\n",
        "        x = self.input_normalization(x)\n",
        "        idx = torch.argmin(torch.sum(self.data_normalized - x)**2, dim=1)\n",
        "        return self.data[idx], self.label[idx]"
      ],
      "metadata": {
        "id": "l4Hr7rBhhvjL"
      },
      "execution_count": 17,
      "outputs": []
    },
    {
      "cell_type": "code",
      "source": [
        "    def get_k_nearest_neighbor(self, x: torch.Tensor, k: int) -> tuple[torch.Tensor, torch.Tensor]:\n",
        "        \"\"\"\n",
        "        Find the k-nearest neighbors of input x from the data.\n",
        "\n",
        "        Args:\n",
        "            x: 1D tensor shape = [D]\n",
        "            k: int, number of neighbors\n",
        "\n",
        "        Returns:\n",
        "            tuple of the k-nearest neighbors data points and their labels\n",
        "            data points will be size (k, D)\n",
        "            labels will be size (k,)\n",
        "        \"\"\"\n",
        "\n",
        "        x = self.input_normalization(x)\n",
        "        distances = torch.sum((self.data_normalized - x) ** 2, dim=1)\n",
        "        idx = torch.topk(distances, k, largest=False)\n",
        "        return self.data[idx], self.label[idx]"
      ],
      "metadata": {
        "id": "HjHX9xnlkBUj"
      },
      "execution_count": 18,
      "outputs": []
    },
    {
      "cell_type": "code",
      "source": [
        "    def knn_regression(self, x: torch.Tensor, k: int) -> torch.Tensor:\n",
        "        \"\"\"\n",
        "        Use the k-nearest neighbors of the input x to predict its regression label.\n",
        "        The prediction will be the average value of the labels from the k neighbors.\n",
        "\n",
        "        Args:\n",
        "            x: 1D tensor [D]\n",
        "            k: int, number of neighbors\n",
        "\n",
        "        Returns:\n",
        "            average value of labels from the k neighbors. Tensor of shape [1]\n",
        "        \"\"\"\n",
        "        neighbor_labels = self.get_k_nearest_neighbor(x, k)\n",
        "        return torch.mean(neighbor_labels, dim=0, keepdim=True)"
      ],
      "metadata": {
        "id": "mjNcFSJ_kYXn"
      },
      "execution_count": null,
      "outputs": []
    }
  ]
}